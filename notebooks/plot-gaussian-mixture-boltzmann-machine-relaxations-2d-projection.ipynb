{
 "cells": [
  {
   "cell_type": "code",
   "execution_count": null,
   "metadata": {
    "collapsed": true
   },
   "outputs": [],
   "source": [
    "import os\n",
    "import numpy as np\n",
    "import bmtools.exact.moments as mom\n",
    "import bmtools.relaxations.gm_relaxations as gmr\n",
    "import bmtools.utils as utils\n",
    "import matplotlib.pyplot as plt\n",
    "import seaborn as sns\n",
    "sns.set_style('white')\n",
    "%matplotlib inline"
   ]
  },
  {
   "cell_type": "code",
   "execution_count": null,
   "metadata": {
    "collapsed": true
   },
   "outputs": [],
   "source": [
    "palette = sns.color_palette('husl', 5)\n",
    "sns.set_context('paper')\n",
    "sns.set(font='sans')\n",
    "sns.set_style('white', {\n",
    "        'font.family': 'sans',\n",
    "        'axes.labelcolor': '0.',\n",
    "        'text.color': '0.',\n",
    "        'xtick.color': '0.',\n",
    "        'ytick.color': '0.'\n",
    "    }\n",
    ")"
   ]
  },
  {
   "cell_type": "code",
   "execution_count": null,
   "metadata": {
    "collapsed": true
   },
   "outputs": [],
   "source": [
    "params = {\n",
    "    'seed': 201702,\n",
    "    'n_unit': 28,\n",
    "    'w_scale_1': 6.,\n",
    "    'w_scale_2': 2.,\n",
    "    'b_scale': 0.1,\n",
    "}"
   ]
  },
  {
   "cell_type": "code",
   "execution_count": null,
   "metadata": {},
   "outputs": [],
   "source": [
    "rng = np.random.RandomState(params['seed'])\n",
    "basis = utils.random_orthogonal_matrix(params['n_unit'], rng)\n",
    "eigvals = params['w_scale_1'] * np.tanh(rng.normal(size=params['n_unit']) * params['w_scale_2'])\n",
    "biases = rng.normal(size=params['n_unit']) * params['b_scale']\n",
    "weights = (basis * eigvals).dot(basis.T)\n",
    "weights -= np.diag(weights.diagonal())\n",
    "relaxation = gmr.IsotropicCovarianceGMRelaxation(weights, biases, True)\n",
    "xs, _, _, _ = relaxation.independent_samples(10000, force=True, prng=rng)"
   ]
  },
  {
   "cell_type": "code",
   "execution_count": null,
   "metadata": {},
   "outputs": [],
   "source": [
    "fig = plt.figure(figsize=(12, 8))\n",
    "ax = fig.add_subplot(1, 1, 1)\n",
    "ax.plot(xs[:, -1], xs[:, -2], '.', ms=4, alpha=0.8)\n",
    "ax.axis('equal')\n",
    "ax.set_xlabel('Component 1')\n",
    "ax.set_ylabel('Component 2')\n",
    "fig.tight_layout(pad=0)\n",
    "fig.savefig('boltzmann-machine-relaxation-samples-project.pdf')"
   ]
  }
 ],
 "metadata": {
  "anaconda-cloud": {},
  "kernelspec": {
   "display_name": "Python 2",
   "language": "python",
   "name": "python2"
  },
  "language_info": {
   "codemirror_mode": {
    "name": "ipython",
    "version": 2
   },
   "file_extension": ".py",
   "mimetype": "text/x-python",
   "name": "python",
   "nbconvert_exporter": "python",
   "pygments_lexer": "ipython2",
   "version": "2.7.13"
  }
 },
 "nbformat": 4,
 "nbformat_minor": 1
}
