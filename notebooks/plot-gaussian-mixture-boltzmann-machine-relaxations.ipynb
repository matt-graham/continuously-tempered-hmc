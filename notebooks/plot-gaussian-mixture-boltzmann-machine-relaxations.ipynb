{
 "cells": [
  {
   "cell_type": "code",
   "execution_count": null,
   "metadata": {
    "collapsed": true
   },
   "outputs": [],
   "source": [
    "import os\n",
    "import glob\n",
    "from collections import OrderedDict\n",
    "import numpy as np\n",
    "import scipy.linalg as la\n",
    "import matplotlib.pyplot as plt\n",
    "from mpl_toolkits.mplot3d import Axes3D\n",
    "from scipy.interpolate import CubicSpline\n",
    "import seaborn as sns\n",
    "%matplotlib inline\n",
    "sns.set_context('paper')\n",
    "sns.set(font='sans')\n",
    "sns.set_style('white', {\n",
    "        'font.family': 'sans',\n",
    "        'axes.labelcolor': '0.',\n",
    "        'text.color': '0.',\n",
    "        'xtick.color': '0.',\n",
    "        'ytick.color': '0.'\n",
    "    }\n",
    ")"
   ]
  },
  {
   "cell_type": "code",
   "execution_count": null,
   "metadata": {
    "collapsed": true
   },
   "outputs": [],
   "source": [
    "base_dir = os.path.dirname(os.getcwd())\n",
    "exp_dir = os.path.join(base_dir, 'experiments', 'gaussian-bmr')"
   ]
  },
  {
   "cell_type": "code",
   "execution_count": null,
   "metadata": {
    "collapsed": true
   },
   "outputs": [],
   "source": [
    "ais_pattern = os.path.join(exp_dir, 'ais', 'params-*')\n",
    "ais_times = np.empty((10, 3)) * np.nan\n",
    "ais_rel_log_norm_rmses = np.empty((10, 3, 10)) * np.nan\n",
    "ais_rel_mean_rmses = np.empty((10, 3, 10)) * np.nan\n",
    "ais_rel_covar_rmses = np.empty((10, 3, 10)) * np.nan\n",
    "for p, param_dir in enumerate(sorted(glob.glob(ais_pattern))):\n",
    "    for t, num_temp in enumerate([1000, 5000, 10000]):\n",
    "        with np.load(os.path.join(param_dir, 'results-{0}.npz'.format(num_temp))) as loaded:\n",
    "            ais_rel_log_norm_rmses[p, t] = loaded['log_norm_rmses'] / loaded['var_log_norm_rmse']\n",
    "            ais_rel_mean_rmses[p, t] = loaded['mean_rmses'] / loaded['var_mean_rmse']\n",
    "            ais_rel_covar_rmses[p, t] = loaded['covar_rmses'] / loaded['var_covar_rmse']\n",
    "            ais_rel_log_norm_rmses[p, t] = loaded['log_norm_rmses'] / loaded['var_log_norm_rmse']\n",
    "            ais_times[p, t] = loaded['sampling_time']"
   ]
  },
  {
   "cell_type": "code",
   "execution_count": null,
   "metadata": {
    "collapsed": true
   },
   "outputs": [],
   "source": [
    "h_ais_pattern = os.path.join(exp_dir, 'h-ais', 'params-*')\n",
    "h_ais_times = np.empty((10, 3)) * np.nan\n",
    "h_ais_rel_log_norm_rmses = np.empty((10, 3, 10)) * np.nan\n",
    "h_ais_rel_mean_rmses = np.empty((10, 3, 10)) * np.nan\n",
    "h_ais_rel_covar_rmses = np.empty((10, 3, 10)) * np.nan\n",
    "for p, param_dir in enumerate(sorted(glob.glob(h_ais_pattern))):\n",
    "    for t, num_temp in enumerate([1000, 5000, 10000]):\n",
    "        with np.load(os.path.join(param_dir, 'results-{0}.npz'.format(num_temp))) as loaded:\n",
    "            h_ais_rel_log_norm_rmses[p, t] = loaded['log_norm_rmses'] / loaded['var_log_norm_rmse']\n",
    "            h_ais_rel_mean_rmses[p, t] = loaded['mean_rmses'] / loaded['var_mean_rmse']\n",
    "            h_ais_rel_covar_rmses[p, t] = loaded['covar_rmses'] / loaded['var_covar_rmse']\n",
    "            h_ais_rel_log_norm_rmses[p, t] = loaded['log_norm_rmses'] / loaded['var_log_norm_rmse']\n",
    "            h_ais_times[p, t] = loaded['sampling_time']"
   ]
  },
  {
   "cell_type": "code",
   "execution_count": null,
   "metadata": {
    "collapsed": true
   },
   "outputs": [],
   "source": [
    "st_pattern = os.path.join(exp_dir, 'st', 'params-*')\n",
    "n_sample_st = 20000\n",
    "st_times = np.empty((10,)) * np.nan\n",
    "st_rel_log_norm_rmses = np.empty((10, 10, n_sample_st)) * np.nan\n",
    "st_rel_mean_rmses = np.empty((10, 10, n_sample_st)) * np.nan\n",
    "st_rel_covar_rmses = np.empty((10, 10, n_sample_st)) * np.nan\n",
    "for p, param_dir in enumerate(sorted(glob.glob(st_pattern))):\n",
    "    with np.load(os.path.join(param_dir, 'results.npz')) as loaded:\n",
    "        st_rel_log_norm_rmses[p] = loaded['log_norm_rmses'] / loaded['var_log_norm_rmse']\n",
    "        st_rel_mean_rmses[p] = loaded['mean_rmses'] / loaded['var_mean_rmse']\n",
    "        st_rel_covar_rmses[p] = loaded['covar_rmses'] / loaded['var_covar_rmse']\n",
    "        st_rel_log_norm_rmses[p] = loaded['log_norm_rmses'] / loaded['var_log_norm_rmse']\n",
    "        st_times[p] = loaded['sampling_time']"
   ]
  },
  {
   "cell_type": "code",
   "execution_count": null,
   "metadata": {
    "collapsed": true
   },
   "outputs": [],
   "source": [
    "gct_pattern = os.path.join(exp_dir, 'gibbs-ct', 'params-*')\n",
    "n_sample_gct = 30000\n",
    "gct_times = np.empty((10,)) * np.nan\n",
    "gct_rel_log_norm_rmses = np.empty((10, 10, n_sample_gct)) * np.nan\n",
    "gct_rel_mean_rmses = np.empty((10, 10, n_sample_gct)) * np.nan\n",
    "gct_rel_covar_rmses = np.empty((10, 10, n_sample_gct)) * np.nan\n",
    "for p, param_dir in enumerate(sorted(glob.glob(gct_pattern))):\n",
    "    with np.load(os.path.join(param_dir, 'results.npz')) as loaded:\n",
    "        gct_rel_log_norm_rmses[p] = loaded['log_norm_rmses'] / loaded['var_log_norm_rmse']\n",
    "        gct_rel_mean_rmses[p] = loaded['mean_rmses'] / loaded['var_mean_rmse']\n",
    "        gct_rel_covar_rmses[p] = loaded['covar_rmses'] / loaded['var_covar_rmse']\n",
    "        gct_rel_log_norm_rmses[p] = loaded['log_norm_rmses'] / loaded['var_log_norm_rmse']\n",
    "        gct_times[p] = loaded['sampling_time']"
   ]
  },
  {
   "cell_type": "code",
   "execution_count": null,
   "metadata": {
    "collapsed": true
   },
   "outputs": [],
   "source": [
    "jct_pattern = os.path.join(exp_dir, 'joint-ct', 'params-*')\n",
    "n_sample_jct = 25000\n",
    "jct_times = np.empty((10,)) * np.nan\n",
    "jct_rel_log_norm_rmses = np.empty((10, 10, n_sample_jct)) * np.nan\n",
    "jct_rel_mean_rmses = np.empty((10, 10, n_sample_jct)) * np.nan\n",
    "jct_rel_covar_rmses = np.empty((10, 10, n_sample_jct)) * np.nan\n",
    "for p, param_dir in enumerate(sorted(glob.glob(jct_pattern))):\n",
    "    with np.load(os.path.join(param_dir, 'results.npz')) as loaded:\n",
    "        jct_rel_log_norm_rmses[p] = loaded['log_norm_rmses'] / loaded['var_log_norm_rmse']\n",
    "        jct_rel_mean_rmses[p] = loaded['mean_rmses'] / loaded['var_mean_rmse']\n",
    "        jct_rel_covar_rmses[p] = loaded['covar_rmses'] / loaded['var_covar_rmse']\n",
    "        jct_rel_log_norm_rmses[p] = loaded['log_norm_rmses'] / loaded['var_log_norm_rmse']\n",
    "        jct_times[p] = loaded['sampling_time']"
   ]
  },
  {
   "cell_type": "code",
   "execution_count": null,
   "metadata": {
    "collapsed": true
   },
   "outputs": [],
   "source": [
    "palette = sns.color_palette(\"husl\", 4)"
   ]
  },
  {
   "cell_type": "code",
   "execution_count": null,
   "metadata": {
    "collapsed": true
   },
   "outputs": [],
   "source": [
    "skip = 200\n",
    "ci = [68]\n",
    "for p in range(10):\n",
    "    fig = plt.figure(figsize=(4, 3))\n",
    "    ax = fig.add_subplot(1, 1, 1)\n",
    "    _ = sns.tsplot(\n",
    "        data=h_ais_rel_log_norm_rmses[p].T, \n",
    "        time=h_ais_times[p], interpolate=False,\n",
    "        color=palette[0],\n",
    "        err_style=\"ci_bars\", ci=ci, ax=ax, condition='AIS'\n",
    "    )\n",
    "    _ = sns.tsplot(\n",
    "        data=st_rel_log_norm_rmses[p, :, ::skip], \n",
    "        time=np.linspace(0, st_times[p], n_sample_st // skip),\n",
    "        color=palette[1],\n",
    "        err_style=\"ci_band\", ci=ci, ax=ax, condition='ST'\n",
    "    )\n",
    "    _ = sns.tsplot(\n",
    "        data=gct_rel_log_norm_rmses[p, :, ::skip], \n",
    "        time=np.linspace(0, gct_times[p], n_sample_gct // skip),\n",
    "        color=palette[2],\n",
    "        err_style=\"ci_band\", ci=ci, ax=ax, condition='Gibbs-CT'\n",
    "    )\n",
    "    _ = sns.tsplot(\n",
    "        data=jct_rel_log_norm_rmses[p, :, ::skip], \n",
    "        time=np.linspace(0, jct_times[p], n_sample_jct // skip),\n",
    "        color=palette[3],\n",
    "        err_style=\"ci_band\", ci=ci, ax=ax, condition='Joint-CT'\n",
    "    )\n",
    "    ax.set_xlim(0, 800)\n",
    "    ax.set_xticks(np.linspace(0, 800, 5))\n",
    "    ax.set_xticklabels(np.linspace(0, 80, 5))\n",
    "    ax.set_yscale('log')\n",
    "    ax.set_xlabel('Time / s')\n",
    "    ax.set_ylabel('Relative RMSE')"
   ]
  },
  {
   "cell_type": "code",
   "execution_count": null,
   "metadata": {
    "collapsed": true
   },
   "outputs": [],
   "source": [
    "skip = 200\n",
    "ci = [68]\n",
    "for p in range(10):\n",
    "    fig = plt.figure(figsize=(4, 3))\n",
    "    ax = fig.add_subplot(1, 1, 1)\n",
    "    _ = sns.tsplot(\n",
    "        data=h_ais_rel_mean_rmses[p].T, \n",
    "        time=h_ais_times[p], interpolate=False,\n",
    "        color=palette[0],\n",
    "        err_style=\"ci_bars\", ci=ci, ax=ax, condition='AIS'\n",
    "    )\n",
    "    _ = sns.tsplot(\n",
    "        data=st_rel_mean_rmses[p, :, ::skip], \n",
    "        time=np.linspace(0, st_times[p], n_sample_st // skip),\n",
    "        color=palette[1],\n",
    "        err_style=\"ci_band\", ci=ci, ax=ax, condition='ST'\n",
    "    )\n",
    "    _ = sns.tsplot(\n",
    "        data=gct_rel_mean_rmses[p, :, ::skip], \n",
    "        time=np.linspace(0, gct_times[p], n_sample_gct // skip),\n",
    "        color=palette[2],\n",
    "        err_style=\"ci_band\", ci=ci, ax=ax, condition='Gibbs-CT'\n",
    "    )\n",
    "    _ = sns.tsplot(\n",
    "        data=jct_rel_mean_rmses[p, :, ::skip], \n",
    "        time=np.linspace(0, jct_times[p], n_sample_jct // skip),\n",
    "        color=palette[3],\n",
    "        err_style=\"ci_band\", ci=ci, ax=ax, condition='Joint-CT'\n",
    "    )\n",
    "    ax.set_xlim(0, 800)\n",
    "    ax.set_xticks(np.linspace(0, 800, 5))\n",
    "    ax.set_xticklabels(np.linspace(0, 80, 5))\n",
    "    ax.set_yscale('log')\n",
    "    ax.set_xlabel('Time / s')\n",
    "    ax.set_ylabel('Relative RMSE')"
   ]
  },
  {
   "cell_type": "code",
   "execution_count": null,
   "metadata": {
    "collapsed": true
   },
   "outputs": [],
   "source": [
    "skip = 200\n",
    "ci = [68]\n",
    "for p in range(10):\n",
    "    fig = plt.figure(figsize=(4, 3))\n",
    "    _ = sns.tsplot(\n",
    "        data=h_ais_rel_covar_rmses[p].T, \n",
    "        time=h_ais_times[p], interpolate=False,\n",
    "        color=palette[0],\n",
    "        err_style=\"ci_bars\", ci=ci, ax=ax, condition='AIS'\n",
    "    )\n",
    "    _ = sns.tsplot(\n",
    "        data=st_rel_covar_rmses[p, :, ::skip], \n",
    "        time=np.linspace(0, st_times[p], n_sample_st // skip),\n",
    "        color=palette[1],\n",
    "        err_style=\"ci_band\", ci=ci, ax=ax, condition='ST'\n",
    "    )\n",
    "    _ = sns.tsplot(\n",
    "        data=gct_rel_covar_rmses[p, :, ::skip], \n",
    "        time=np.linspace(0, gct_times[p], n_sample_gct // skip),\n",
    "        color=palette[2],\n",
    "        err_style=\"ci_band\", ci=ci, ax=ax, condition='Gibbs-CT'\n",
    "    )\n",
    "    _ = sns.tsplot(\n",
    "        data=jct_rel_covar_rmses[p, :, ::skip], \n",
    "        time=np.linspace(0, jct_times[p], n_sample_jct // skip),\n",
    "        color=palette[3],\n",
    "        err_style=\"ci_band\", ci=ci, ax=ax, condition='Joint-CT'\n",
    "    )\n",
    "    ax.set_xlim(0, 800)\n",
    "    ax.set_xticks(np.linspace(0, 800, 5))\n",
    "    ax.set_xticklabels(np.linspace(0, 80, 5))\n",
    "    ax.set_yscale('log')\n",
    "    ax.set_xlabel('Time / s')\n",
    "    ax.set_ylabel('Relative RMSE')"
   ]
  },
  {
   "cell_type": "code",
   "execution_count": null,
   "metadata": {
    "collapsed": true
   },
   "outputs": [],
   "source": [
    "skip = 200\n",
    "ci = [95]\n",
    "fig = plt.figure(figsize=(4, 2.5))\n",
    "ax = fig.add_subplot(1, 1, 1)\n",
    "_ = sns.tsplot(\n",
    "    data=h_ais_rel_log_norm_rmses.transpose(0, 2, 1).reshape(100, 3),\n",
    "    time=h_ais_times.mean(0), interpolate=False,\n",
    "    color=palette[0],\n",
    "    err_style=\"ci_bars\", ci=ci, ax=ax, condition='AIS'\n",
    ")\n",
    "_ = sns.tsplot(\n",
    "    data=st_rel_log_norm_rmses[:, :, ::skip].reshape(100, -1), \n",
    "    time=np.linspace(0, st_times.mean(0), n_sample_st // skip),\n",
    "    color=palette[1], linestyle='--',\n",
    "    err_style=\"ci_band\", ci=ci, ax=ax, condition='ST'\n",
    ")\n",
    "_ = sns.tsplot(\n",
    "    data=gct_rel_log_norm_rmses[:, :, ::skip].reshape(100, -1), \n",
    "    time=np.linspace(0, gct_times[p], n_sample_gct // skip),\n",
    "    color=palette[2], linestyle=':',\n",
    "    err_style=\"ci_band\", ci=ci, ax=ax, condition='Gibbs CT'\n",
    ")\n",
    "_ = sns.tsplot(\n",
    "    data=jct_rel_log_norm_rmses[:, :, ::skip].reshape(100, -1), \n",
    "    time=np.linspace(0, jct_times[p], n_sample_jct // skip),\n",
    "    color=palette[3],\n",
    "    err_style=\"ci_band\", ci=ci, ax=ax, condition='Joint CT'\n",
    ")\n",
    "ax.legend(ncol=2)\n",
    "ax.set_xlim(0, 800)\n",
    "ax.set_xticks(np.linspace(0, 800, 5))\n",
    "ax.set_xticklabels(np.linspace(0, 80, 5))\n",
    "ax.set_yscale('log')\n",
    "ax.set_xlabel('Time / s')\n",
    "ax.set_ylabel('Relative RMSE')\n",
    "fig.tight_layout(pad=0)\n",
    "fig.savefig(\n",
    "    os.path.join(exp_dir, 'gaussian-bm-relaxation-30-unit-scale-6-log-norm-rmses.pdf'), \n",
    "    bbox_inches='tight', pad_inches=0)"
   ]
  },
  {
   "cell_type": "code",
   "execution_count": null,
   "metadata": {
    "collapsed": true
   },
   "outputs": [],
   "source": [
    "skip = 200\n",
    "ci = [95]\n",
    "fig = plt.figure(figsize=(4, 2.5))\n",
    "ax = fig.add_subplot(1, 1, 1)\n",
    "_ = sns.tsplot(\n",
    "    data=h_ais_rel_mean_rmses.transpose(0, 2, 1).reshape(100, 3),\n",
    "    time=h_ais_times.mean(0), interpolate=False,\n",
    "    color=palette[0],\n",
    "    err_style=\"ci_bars\", ci=ci, ax=ax, condition='AIS'\n",
    ")\n",
    "_ = sns.tsplot(\n",
    "    data=st_rel_mean_rmses[:, :, ::skip].reshape(100, -1), \n",
    "    time=np.linspace(0, st_times.mean(0), n_sample_st // skip),\n",
    "    color=palette[1], linestyle='--',\n",
    "    err_style=\"ci_band\", ci=ci, ax=ax, condition='ST'\n",
    ")\n",
    "_ = sns.tsplot(\n",
    "    data=gct_rel_mean_rmses[:, :, ::skip].reshape(100, -1), \n",
    "    time=np.linspace(0, gct_times[p], n_sample_gct // skip),\n",
    "    color=palette[2],  linestyle=':',\n",
    "    err_style=\"ci_band\", ci=ci, ax=ax, condition='Gibbs CT'\n",
    ")\n",
    "_ = sns.tsplot(\n",
    "    data=jct_rel_mean_rmses[:, :, ::skip].reshape(100, -1), \n",
    "    time=np.linspace(0, jct_times[p], n_sample_jct // skip),\n",
    "    color=palette[3],\n",
    "    err_style=\"ci_band\", ci=ci, ax=ax, condition='Joint CT'\n",
    ")\n",
    "ax.legend(ncol=2)\n",
    "ax.set_xlim(0, 800)\n",
    "ax.set_xticks(np.linspace(0, 800, 5))\n",
    "ax.set_xticklabels(np.linspace(0, 80, 5))\n",
    "ax.set_yscale('log')\n",
    "ax.set_xlabel('Time / s')\n",
    "ax.set_ylabel('Relative RMSE')\n",
    "fig.tight_layout(pad=0)\n",
    "fig.savefig(\n",
    "    os.path.join(exp_dir, 'gaussian-bm-relaxation-30-unit-scale-6-mean-rmses.pdf'), \n",
    "    bbox_inches='tight', pad_inches=0)"
   ]
  },
  {
   "cell_type": "code",
   "execution_count": null,
   "metadata": {
    "collapsed": true
   },
   "outputs": [],
   "source": [
    "skip = 200\n",
    "ci = [95]\n",
    "fig = plt.figure(figsize=(4, 2.5))\n",
    "ax = fig.add_subplot(1, 1, 1)\n",
    "_ = sns.tsplot(\n",
    "    data=h_ais_rel_covar_rmses.transpose(0, 2, 1).reshape(100, 3),\n",
    "    time=h_ais_times.mean(0), interpolate=False,\n",
    "    color=palette[0],\n",
    "    err_style=\"ci_bars\", ci=ci, ax=ax, condition='AIS'\n",
    ")\n",
    "_ = sns.tsplot(\n",
    "    data=st_rel_covar_rmses[:, :, ::skip].reshape(100, -1), \n",
    "    time=np.linspace(0, st_times.mean(0), n_sample_st // skip),\n",
    "    color=palette[1], linestyle='--',\n",
    "    err_style=\"ci_band\", ci=ci, ax=ax, condition='ST'\n",
    ")\n",
    "_ = sns.tsplot(\n",
    "    data=gct_rel_covar_rmses[:, :, ::skip].reshape(100, -1), \n",
    "    time=np.linspace(0, gct_times[p], n_sample_gct // skip),\n",
    "    color=palette[2], linestyle=':',\n",
    "    err_style=\"ci_band\", ci=ci, ax=ax, condition='Gibbs CT'\n",
    ")\n",
    "_ = sns.tsplot(\n",
    "    data=jct_rel_covar_rmses[:, :, ::skip].reshape(100, -1), \n",
    "    time=np.linspace(0, jct_times[p], n_sample_jct // skip),\n",
    "    color=palette[3],\n",
    "    err_style=\"ci_band\", ci=ci, ax=ax, condition='Joint CT'\n",
    ")\n",
    "ax.legend(ncol=2)\n",
    "ax.set_xlim(0, 800)\n",
    "ax.set_xticks(np.linspace(0, 800, 5))\n",
    "ax.set_xticklabels(np.linspace(0, 80, 5))\n",
    "ax.set_yscale('log')\n",
    "ax.set_xlabel('Time / s')\n",
    "ax.set_ylabel('Relative RMSE')\n",
    "fig.tight_layout(pad=0)\n",
    "fig.savefig(\n",
    "    os.path.join(exp_dir, 'gaussian-bm-relaxation-30-unit-scale-6-covariance-rmses.pdf'), \n",
    "    bbox_inches='tight', pad_inches=0)"
   ]
  }
 ],
 "metadata": {
  "anaconda-cloud": {},
  "kernelspec": {
   "display_name": "Python 2",
   "language": "python",
   "name": "python2"
  },
  "language_info": {
   "codemirror_mode": {
    "name": "ipython",
    "version": 2
   },
   "file_extension": ".py",
   "mimetype": "text/x-python",
   "name": "python",
   "nbconvert_exporter": "python",
   "pygments_lexer": "ipython2",
   "version": "2.7.13"
  }
 },
 "nbformat": 4,
 "nbformat_minor": 1
}
