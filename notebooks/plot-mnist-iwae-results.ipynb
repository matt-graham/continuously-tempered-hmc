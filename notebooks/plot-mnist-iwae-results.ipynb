{
 "cells": [
  {
   "cell_type": "code",
   "execution_count": null,
   "metadata": {
    "collapsed": true
   },
   "outputs": [],
   "source": [
    "import os\n",
    "import glob\n",
    "from collections import OrderedDict\n",
    "import numpy as np\n",
    "import scipy.linalg as la\n",
    "import matplotlib\n",
    "import matplotlib.pyplot as plt\n",
    "from mpl_toolkits.mplot3d import Axes3D\n",
    "from scipy.interpolate import CubicSpline\n",
    "import seaborn as sns\n",
    "%matplotlib inline"
   ]
  },
  {
   "cell_type": "code",
   "execution_count": null,
   "metadata": {
    "collapsed": true
   },
   "outputs": [],
   "source": [
    "palette = sns.color_palette('husl', 5)\n",
    "sns.set_context('paper')\n",
    "sns.set(font='sans')\n",
    "sns.set_style('white', {\n",
    "        'font.family': 'sans',\n",
    "        'axes.labelcolor': '0.',\n",
    "        'text.color': '0.',\n",
    "        'xtick.color': '0.',\n",
    "        'ytick.color': '0.'\n",
    "    }\n",
    ")"
   ]
  },
  {
   "cell_type": "code",
   "execution_count": null,
   "metadata": {
    "collapsed": true
   },
   "outputs": [],
   "source": [
    "base_dir = os.path.dirname(os.getcwd())\n",
    "model_dir = os.path.join(base_dir, 'data', 'mnist-iwae')\n",
    "exp_dir = os.path.join(base_dir, 'experiments', 'mnist-iwae')"
   ]
  },
  {
   "cell_type": "code",
   "execution_count": null,
   "metadata": {
    "collapsed": true
   },
   "outputs": [],
   "source": [
    "with np.load(os.path.join(model_dir, 'joint-sample-and-log-norm-bounds.npz')) as samples_and_log_norm_bounds:\n",
    "    log_zeta = samples_and_log_norm_bounds['log_zeta']\n",
    "    log_norm_lower = samples_and_log_norm_bounds['log_norm_lower']\n",
    "    log_norm_upper = samples_and_log_norm_bounds['log_norm_upper']"
   ]
  },
  {
   "cell_type": "code",
   "execution_count": null,
   "metadata": {
    "collapsed": true
   },
   "outputs": [],
   "source": [
    "with np.load(os.path.join(exp_dir, 'ais-results.npz')) as loaded:\n",
    "    ais_log_norm_ests = loaded['log_norm_ests']\n",
    "    ais_times = loaded['sampling_times']"
   ]
  },
  {
   "cell_type": "code",
   "execution_count": null,
   "metadata": {
    "collapsed": true
   },
   "outputs": [],
   "source": [
    "with np.load(os.path.join(exp_dir, 'st-results.npz')) as loaded:\n",
    "    st_log_norm_ests = loaded['log_norm_ests']\n",
    "    st_times = loaded['sampling_times']"
   ]
  },
  {
   "cell_type": "code",
   "execution_count": null,
   "metadata": {
    "collapsed": true
   },
   "outputs": [],
   "source": [
    "with np.load(os.path.join(exp_dir, 'gct-results.npz')) as loaded:\n",
    "    gct_log_norm_ests = loaded['log_norm_ests']\n",
    "    gct_times = loaded['sampling_times']"
   ]
  },
  {
   "cell_type": "code",
   "execution_count": null,
   "metadata": {
    "collapsed": true
   },
   "outputs": [],
   "source": [
    "with np.load(os.path.join(exp_dir, 'jct-results-alt.npz')) as loaded:\n",
    "    jct_log_norm_ests = loaded['log_norm_ests']\n",
    "    jct_times = loaded['sampling_times']"
   ]
  },
  {
   "cell_type": "code",
   "execution_count": null,
   "metadata": {
    "collapsed": true
   },
   "outputs": [],
   "source": [
    "num_data = 1000\n",
    "max_time = 400\n",
    "skip = 10\n",
    "fig = plt.figure(figsize=(6, 3))\n",
    "ax = fig.add_subplot(111)\n",
    "ci = [95]\n",
    "_ = sns.tsplot(\n",
    "    data=st_log_norm_ests[:, ::skip] * num_data, \n",
    "    time=np.linspace(0, 1, st_log_norm_ests.shape[1] / skip) * st_times.mean(0),\n",
    "    color=palette[1], ls='--',\n",
    "    err_style=\"ci_band\", ci=ci, ax=ax, condition='ST'\n",
    ")\n",
    "_ = sns.tsplot(\n",
    "    data=gct_log_norm_ests[:, ::skip] * num_data, \n",
    "    time=np.linspace(0, 1, gct_log_norm_ests.shape[1] / skip) * gct_times.mean(0),\n",
    "    color=palette[2], ls=':',\n",
    "    err_style=\"ci_band\", ci=ci, ax=ax, condition='Gibbs CT'\n",
    ")\n",
    "_ = sns.tsplot(\n",
    "    data=jct_log_norm_ests[:, ::skip] * num_data, \n",
    "    time=np.linspace(0, 1, jct_log_norm_ests.shape[1] / skip) * jct_times.mean(0),\n",
    "    color=palette[3], ls='-',\n",
    "    err_style=\"ci_band\", ci=ci, ax=ax, condition='Joint CT'\n",
    ")\n",
    "_ = sns.tsplot(\n",
    "    data=ais_log_norm_ests * num_data,\n",
    "    time=ais_times.mean(0), interpolate=False,\n",
    "    color=palette[0], ms=7,\n",
    "    err_style=\"ci_bars\", ci=ci, ax=ax, condition='AIS'\n",
    ")\n",
    "_ = sns.tsplot(time=[0, max_time], data=[log_norm_upper * num_data, log_norm_upper * num_data], \n",
    "               color='k', ls='-.', lw=1., condition='BDMC upper')\n",
    "_ = sns.tsplot(time=[0, max_time], data=[log_norm_lower * num_data, log_norm_lower * num_data], \n",
    "               color='r', ls='-.', lw=1., condition='BDMC lower')\n",
    "ax.legend(ncol=2)\n",
    "ax.set_xlim(0, max_time)\n",
    "ax.set_xlabel('Time / s')\n",
    "ax.set_ylim(-95.7 * num_data, -95.3 * num_data)\n",
    "ax.set_ylabel('Log marginal likelihood est.')\n",
    "fig.tight_layout(pad=0)\n",
    "fig.savefig('mnist-marginal-likelihood-est.pdf')"
   ]
  }
 ],
 "metadata": {
  "kernelspec": {
   "display_name": "Python 2",
   "language": "python",
   "name": "python2"
  },
  "language_info": {
   "codemirror_mode": {
    "name": "ipython",
    "version": 2
   },
   "file_extension": ".py",
   "mimetype": "text/x-python",
   "name": "python",
   "nbconvert_exporter": "python",
   "pygments_lexer": "ipython2",
   "version": "2.7.13"
  }
 },
 "nbformat": 4,
 "nbformat_minor": 2
}
