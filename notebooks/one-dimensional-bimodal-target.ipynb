{
 "cells": [
  {
   "cell_type": "code",
   "execution_count": null,
   "metadata": {
    "collapsed": true
   },
   "outputs": [],
   "source": [
    "import os\n",
    "import numpy as np\n",
    "import theano as th\n",
    "import theano.tensor as tt\n",
    "import matplotlib\n",
    "import matplotlib.pyplot as plt\n",
    "from thermomc import continuous_temp, discrete_temp, control_funcs, hmc\n",
    "import seaborn as sns\n",
    "%matplotlib inline"
   ]
  },
  {
   "cell_type": "markdown",
   "metadata": {},
   "source": [
    "## Create experiment directory"
   ]
  },
  {
   "cell_type": "code",
   "execution_count": null,
   "metadata": {
    "collapsed": true
   },
   "outputs": [],
   "source": [
    "base_dir = os.path.dirname(os.getcwd())\n",
    "exp_dir = os.path.join(base_dir, 'experiments', '1d-bimodal')\n",
    "if not os.path.exists(exp_dir):\n",
    "    os.makedirs(exp_dir)"
   ]
  },
  {
   "cell_type": "markdown",
   "metadata": {},
   "source": [
    "## Set plot style settings"
   ]
  },
  {
   "cell_type": "code",
   "execution_count": null,
   "metadata": {
    "collapsed": true
   },
   "outputs": [],
   "source": [
    "sns.set_context('paper')\n",
    "sns.set(font='sans')\n",
    "sns.set_style('white', {\n",
    "    'font.family': 'sans',\n",
    "    'axes.labelcolor': '0.',\n",
    "    'text.color': '0.',\n",
    "    'xtick.color': '0.',\n",
    "    'ytick.color': '0.'\n",
    "})"
   ]
  },
  {
   "cell_type": "code",
   "execution_count": null,
   "metadata": {
    "collapsed": true
   },
   "outputs": [],
   "source": [
    "params = {\n",
    "    'text.latex.preamble' : [\n",
    "        r'\\usepackage[notextcomp]{stix}', \n",
    "        r'\\usepackage{amsmath}', \n",
    "        r'\\usepackage{helvet}',\n",
    "        r'\\renewcommand{\\rmdefault}{\\sfdefault}',\n",
    "    ],\n",
    "    'font.family': \"sans-serif\",\n",
    "    'font.size' : 12,\n",
    "    'text.usetex': True \n",
    "}\n",
    "matplotlib.rcParams.update(params)"
   ]
  },
  {
   "cell_type": "markdown",
   "metadata": {},
   "source": [
    "## Define model functions"
   ]
  },
  {
   "cell_type": "code",
   "execution_count": null,
   "metadata": {
    "collapsed": true
   },
   "outputs": [],
   "source": [
    "mu_1 = -8\n",
    "mu_2 = 8\n",
    "sigma_1 = 1\n",
    "sigma_2 = 2\n",
    "p_1 = 0.6\n",
    "p_2 = 0.4\n",
    "\n",
    "var_mean = p_1 * mu_1 + p_2 * mu_2\n",
    "var_std = (\n",
    "    p_1 * sigma_1**2 + p_2 * sigma_2**2 + \n",
    "    p_1 * mu_1**2 + p_2 * mu_2**2 - var_mean**2\n",
    ")**0.5\n",
    "\n",
    "def phi(x):\n",
    "    ret_val = -tt.log(\n",
    "        (p_1 / (2 * np.pi * sigma_1**2)**0.5) * tt.exp(-0.5 * ((x - mu_1) / sigma_1)**2) +\n",
    "        (p_2 / (2 * np.pi * sigma_2**2)**0.5) * tt.exp(-0.5 * ((x - mu_2) / sigma_2)**2)\n",
    "    )\n",
    "    if x.ndim == 2:\n",
    "        return ret_val.sum(-1)\n",
    "    else:\n",
    "        return ret_val\n",
    "\n",
    "def psi(x):\n",
    "    ret_val = (\n",
    "        0.5 * ((x - var_mean) / var_std)**2 + 0.5 * tt.log(2 * np.pi) + tt.log(var_std)\n",
    "    )\n",
    "    if x.ndim == 2:\n",
    "        return ret_val.sum(-1)\n",
    "    else:\n",
    "        return ret_val\n",
    "\n",
    "def joint_energy_u(x, u):\n",
    "    beta = tt.nnet.sigmoid(u)\n",
    "    return beta * phi(x) + (1 - beta) * psi(x) - tt.log(beta * (1 - beta))\n",
    "\n",
    "def joint_energy_beta(x, beta):\n",
    "    return beta * phi(x) + (1 - beta) * psi(x)\n",
    "\n",
    "x, u, beta = tt.vectors('x', 'u', 'beta')\n",
    "phi_func = th.function([x], phi(x))\n",
    "psi_func = th.function([x], psi(x))\n",
    "joint_energy_u_func = th.function([x, u], joint_energy_u(x, u))\n",
    "joint_energy_beta_func = th.function([x, beta], joint_energy_beta(x, beta))"
   ]
  },
  {
   "cell_type": "markdown",
   "metadata": {},
   "source": [
    "## Visualise target and base densities"
   ]
  },
  {
   "cell_type": "code",
   "execution_count": null,
   "metadata": {
    "collapsed": true,
    "scrolled": true
   },
   "outputs": [],
   "source": [
    "fig = plt.figure(figsize=(6, 3))\n",
    "ax = fig.add_subplot(1, 1, 1)\n",
    "xs = np.linspace(-20, 20, 200)\n",
    "ax.plot(xs, np.exp(-phi_func(xs)))\n",
    "ax.plot(xs, np.exp(-psi_func(xs)))\n",
    "ax.legend([r'Target $\\,\\frac{1}{Z}\\,\\exp[-\\phi(x)]$', r'Base $\\,\\exp[-\\psi(x)]$'])\n",
    "ax.set_xlabel(r'Target state $x$')\n",
    "ax.set_ylabel(r'Probability density')\n",
    "ax.set_xticklabels(['{0:.0f}'.format(tick) for tick in ax.get_xticks()], fontsize=9)\n",
    "ax.set_yticklabels(['{0:.2f}'.format(tick) for tick in ax.get_yticks()], fontsize=9)\n",
    "fig.tight_layout(pad=0)\n",
    "fig.savefig(os.path.join(exp_dir, 'bimodal-gm-target-and-gaussian-base.pdf'))"
   ]
  },
  {
   "cell_type": "markdown",
   "metadata": {},
   "source": [
    "## Visualise joint energy / density"
   ]
  },
  {
   "cell_type": "code",
   "execution_count": null,
   "metadata": {
    "collapsed": true,
    "scrolled": true
   },
   "outputs": [],
   "source": [
    "fig = plt.figure(figsize=(8, 4))\n",
    "ax = fig.add_subplot(1, 1, 1)\n",
    "x_lin = np.linspace(-20, 20, 100)\n",
    "u_lin = np.linspace(-8, 8, 100)\n",
    "x_grid, u_grid = np.meshgrid(x_lin, u_lin)\n",
    "energies_u = joint_energy_u_func(\n",
    "    x_grid.flatten(), u_grid.flatten()).reshape(x_grid.shape)\n",
    "ax.pcolormesh(x_grid, u_grid, (energies_u), cmap='magma', shading='gouraud')\n",
    "ax.contour(x_grid, u_grid, energies_u, 30, linewidths=0.2, colors='w')"
   ]
  },
  {
   "cell_type": "code",
   "execution_count": null,
   "metadata": {
    "collapsed": true
   },
   "outputs": [],
   "source": [
    "fig = plt.figure(figsize=(8, 4))\n",
    "ax = fig.add_subplot(1, 1, 1)\n",
    "x_lin = np.linspace(-30, 30, 100)\n",
    "beta_lin = np.linspace(0, 1, 100)\n",
    "x_grid, beta_grid = np.meshgrid(x_lin, beta_lin)\n",
    "energies_beta = joint_energy_beta_func(\n",
    "    x_grid.flatten(), beta_grid.flatten()).reshape(x_grid.shape)\n",
    "ax.pcolormesh(x_grid,  beta_grid, np.exp(-energies_beta), cmap='magma', shading='gouraud')"
   ]
  },
  {
   "cell_type": "markdown",
   "metadata": {},
   "source": [
    "## Continuously tempered HMC"
   ]
  },
  {
   "cell_type": "code",
   "execution_count": null,
   "metadata": {
    "collapsed": true
   },
   "outputs": [],
   "source": [
    "seed = 1234\n",
    "temp_scale = 1."
   ]
  },
  {
   "cell_type": "code",
   "execution_count": null,
   "metadata": {
    "collapsed": true
   },
   "outputs": [],
   "source": [
    "pos = tt.matrix('pos')\n",
    "tmp_ctrl = tt.vector('tmp_ctrl')\n",
    "dt, mom_resample_coeff = tt.scalars('dt', 'mom_resample_coeff')\n",
    "n_step, n_sample = tt.iscalars('n_step', 'n_sample')\n",
    "hmc_params = {'dt': dt, 'mom_resample_coeff': mom_resample_coeff, 'n_step': n_step}\n",
    "ctrl_func = control_funcs.SigmoidalControlFunction(temp_scale)\n",
    "sampler = continuous_temp.JointContinuousTemperingSampler(\n",
    "    tt.shared_randomstreams.RandomStreams(seed), False\n",
    ")"
   ]
  },
  {
   "cell_type": "code",
   "execution_count": null,
   "metadata": {
    "collapsed": true
   },
   "outputs": [],
   "source": [
    "(pos_samples, tmp_ctrl_samples, inv_temp_samples, \n",
    " probs_0, probs_1, accepts, updates) = sampler.chain(\n",
    "    pos, tmp_ctrl, None, phi, psi, ctrl_func, n_sample, hmc_params)\n",
    "jct_chain_func = th.function(\n",
    "    [pos, tmp_ctrl, dt, n_step, n_sample, mom_resample_coeff],\n",
    "    [pos_samples, tmp_ctrl_samples, inv_temp_samples, \n",
    "     probs_0, probs_1, accepts],\n",
    "    updates=updates\n",
    ")"
   ]
  },
  {
   "cell_type": "code",
   "execution_count": null,
   "metadata": {
    "collapsed": true
   },
   "outputs": [],
   "source": [
    "rng = np.random.RandomState(seed)\n",
    "pos_init = rng.normal(size=(1, 1))\n",
    "tmp_ctrl_init = rng.normal(size=(1,))"
   ]
  },
  {
   "cell_type": "code",
   "execution_count": null,
   "metadata": {
    "collapsed": true
   },
   "outputs": [],
   "source": [
    "dt = 1.\n",
    "n_step = 20\n",
    "n_sample = 1000\n",
    "mom_resample_coeff = 1.\n",
    "(pos_samples, tmp_ctrl_samples, inv_temp_samples, \n",
    " probs_0, probs_1, accepts) = jct_chain_func(\n",
    "    pos_init, tmp_ctrl_init, dt, n_step, n_sample, mom_resample_coeff\n",
    ")\n",
    "print(accepts.mean())"
   ]
  },
  {
   "cell_type": "code",
   "execution_count": null,
   "metadata": {
    "collapsed": true
   },
   "outputs": [],
   "source": [
    "fig = plt.figure(figsize=(8, 4))\n",
    "ax = fig.add_subplot(1, 1, 1)\n",
    "x_lin = np.linspace(-20, 20, 100)\n",
    "u_lin = np.linspace(-10, 10, 100)\n",
    "x_grid, u_grid = np.meshgrid(x_lin, u_lin)\n",
    "energies_u = joint_energy_u_func(\n",
    "    x_grid.flatten(), u_grid.flatten()).reshape(x_grid.shape)\n",
    "ax.pcolormesh(x_grid, u_grid, np.exp(-energies_u), cmap='magma', shading='gouraud')\n",
    "ax.plot(pos_samples[:, 0, 0], tmp_ctrl_samples[:, 0], 'g.', ms=4)"
   ]
  },
  {
   "cell_type": "code",
   "execution_count": null,
   "metadata": {
    "collapsed": true
   },
   "outputs": [],
   "source": [
    "fig = plt.figure(figsize=(8, 4))\n",
    "ax = fig.add_subplot(1, 1, 1)\n",
    "x_lin = np.linspace(-20, 20, 100)\n",
    "u_lin = np.linspace(-10, 10, 100)\n",
    "x_grid, u_grid = np.meshgrid(x_lin, u_lin)\n",
    "energies_u = joint_energy_u_func(\n",
    "    x_grid.flatten(), u_grid.flatten()).reshape(x_grid.shape)\n",
    "ax.pcolormesh(x_grid, u_grid, (energies_u), cmap='magma', shading='gouraud')\n",
    "ax.contour(x_grid, u_grid, energies_u, 30, linewidths=0.2, colors='w')\n",
    "ax.plot(pos_samples[:, 0, 0], tmp_ctrl_samples[:, 0], '.')"
   ]
  },
  {
   "cell_type": "code",
   "execution_count": null,
   "metadata": {
    "collapsed": true
   },
   "outputs": [],
   "source": [
    "fig = plt.figure(figsize=(8, 4))\n",
    "ax = fig.add_subplot(1, 1, 1)\n",
    "x_lin = np.linspace(-30, 30, 100)\n",
    "beta_lin = np.linspace(0, 1, 100)\n",
    "x_grid, beta_grid = np.meshgrid(x_lin, beta_lin)\n",
    "energies_beta = joint_energy_beta_func(\n",
    "    x_grid.flatten(), beta_grid.flatten()).reshape(x_grid.shape)\n",
    "ax.pcolormesh(x_grid,  beta_grid, np.exp(-energies_beta), cmap='magma', shading='gouraud')\n",
    "ax.plot(pos_samples[:, 0, 0], inv_temp_samples[:, 0], '.')"
   ]
  },
  {
   "cell_type": "code",
   "execution_count": null,
   "metadata": {
    "collapsed": true
   },
   "outputs": [],
   "source": [
    "fig = plt.figure(figsize=(8, 4))\n",
    "ax = fig.add_subplot(1, 1, 1)\n",
    "x_lin = np.linspace(-30, 30, 100)\n",
    "beta_lin = np.linspace(0, 1, 100)\n",
    "x_grid, beta_grid = np.meshgrid(x_lin, beta_lin)\n",
    "energies_beta = joint_energy_beta_func(\n",
    "    x_grid.flatten(), beta_grid.flatten()).reshape(x_grid.shape)\n",
    "ax.pcolormesh(x_grid, beta_grid, (energies_beta), cmap='magma', shading='gouraud')\n",
    "ax.contour(x_grid, beta_grid, energies_beta, 30, linewidths=0.2, colors='w')\n",
    "ax.plot(pos_samples[:, 0, 0], inv_temp_samples[:, 0], '.')"
   ]
  },
  {
   "cell_type": "code",
   "execution_count": null,
   "metadata": {
    "collapsed": true
   },
   "outputs": [],
   "source": [
    "sampler.srng.seed(seed)\n",
    "j = -100\n",
    "pos_init = pos_samples[j, 0:1]\n",
    "tmp_ctrl_init = tmp_ctrl_samples[j, 0:1]\n",
    "dt = 0.1\n",
    "n_step = 2\n",
    "n_sample = 100\n",
    "mom_resample_coeff = 0.\n",
    "(pos_traj, tmp_ctrl_traj, inv_temp_traj, \n",
    " _, _, accepts) = jct_chain_func(\n",
    "    pos_init, tmp_ctrl_init, dt, n_step, n_sample, mom_resample_coeff\n",
    ")\n",
    "print accepts.min()"
   ]
  },
  {
   "cell_type": "code",
   "execution_count": null,
   "metadata": {
    "collapsed": true
   },
   "outputs": [],
   "source": [
    "fig = plt.figure(figsize=(6, 3))\n",
    "ax = fig.add_subplot(1, 1, 1)\n",
    "x_lin = np.linspace(-20, 20, 200)\n",
    "u_lin = np.linspace(-10, 10, 200)\n",
    "x_grid, u_grid = np.meshgrid(x_lin, u_lin)\n",
    "energies_u = joint_energy_u_func(\n",
    "    x_grid.flatten(), u_grid.flatten()).reshape(x_grid.shape)\n",
    "ax.pcolormesh(x_grid, u_grid, (energies_u), cmap='magma', shading='gouraud')\n",
    "ax.contour(x_grid, u_grid, energies_u, 30, linewidths=0.3, colors='w')\n",
    "ax.plot(pos_traj[::2, 0, 0], tmp_ctrl_traj[::2, 0], '.-', lw=1, color='limegreen')\n",
    "ax.set_xlabel('Target state $x$')\n",
    "ax.set_ylabel('Temperature control $u$')\n",
    "ax.set_xticklabels(['{0:.0f}'.format(tick) for tick in ax.get_xticks()], fontsize=9)\n",
    "ax.set_yticklabels(['{0:.0f}'.format(tick) for tick in ax.get_yticks()], fontsize=9)\n",
    "fig.tight_layout(pad=0)\n",
    "fig.savefig(os.path.join(exp_dir, 'jct-energy-and-trajectory.pdf'))"
   ]
  },
  {
   "cell_type": "code",
   "execution_count": null,
   "metadata": {
    "collapsed": true
   },
   "outputs": [],
   "source": [
    "fig = plt.figure(figsize=(6, 3))\n",
    "ax = fig.add_subplot(1, 1, 1)\n",
    "x_lin = np.linspace(-20, 20, 200)\n",
    "beta_lin = np.linspace(0, 1, 200)\n",
    "x_grid, beta_grid = np.meshgrid(x_lin, beta_lin)\n",
    "energies_beta = joint_energy_beta_func(\n",
    "    x_grid.flatten(), beta_grid.flatten()).reshape(x_grid.shape)\n",
    "ax.pcolormesh(x_grid, beta_grid, -np.exp(-energies_beta), cmap='magma', shading='gouraud')\n",
    "ax.contour(x_grid, beta_grid, np.exp(-energies_beta), 15, linewidths=0.3, colors='k')\n",
    "xs, betas, p1s = pos_samples[:, 0, 0], inv_temp_samples[:, 0], probs_1[:, 0]\n",
    "ax.scatter(xs, betas, c='k', s=(5 * p1s + 1), linewidths=0.)\n",
    "ax.set_xlabel('Target state $x$')\n",
    "ax.set_ylabel(r'Inverse temperature $\\beta$')\n",
    "ax.set_xlim(x_lin[0], x_lin[-1])\n",
    "ax.set_ylim(beta_lin[0], beta_lin[-1])\n",
    "ax.set_xticklabels(['{0:.0f}'.format(tick) for tick in ax.get_xticks()], fontsize=9)\n",
    "ax.set_yticklabels(['{0:.1f}'.format(tick) for tick in ax.get_yticks()], fontsize=9)\n",
    "fig.tight_layout(pad=0)\n",
    "fig.savefig(os.path.join(exp_dir, 'jct-prob-dens-and-joint-samples.pdf'))"
   ]
  },
  {
   "cell_type": "markdown",
   "metadata": {},
   "source": [
    "## HMC in target density"
   ]
  },
  {
   "cell_type": "code",
   "execution_count": null,
   "metadata": {
    "collapsed": true
   },
   "outputs": [],
   "source": [
    "pos = tt.matrix('pos')\n",
    "dt, mom_resample_coeff = tt.scalars('dt', 'mom_resample_coeff')\n",
    "n_step, n_sample = tt.iscalars('n_step', 'n_sample')\n",
    "hmc_params = {'dt': dt, 'mom_resample_coeff': mom_resample_coeff, 'n_step': n_step}\n",
    "hmc_sampler = hmc.HamiltonianSampler(\n",
    "    tt.shared_randomstreams.RandomStreams(seed), False\n",
    ")"
   ]
  },
  {
   "cell_type": "code",
   "execution_count": null,
   "metadata": {
    "collapsed": true
   },
   "outputs": [],
   "source": [
    "(pos_samples_hmc, mom_samples, accepts, updates) = hmc_sampler.hmc_chain(\n",
    "    pos, None, phi, n_sample, **hmc_params)\n",
    "hmc_chain_func = th.function(\n",
    "    [pos, dt, n_step, n_sample, mom_resample_coeff],\n",
    "    [pos_samples_hmc, accepts],\n",
    "    updates=updates\n",
    ")"
   ]
  },
  {
   "cell_type": "code",
   "execution_count": null,
   "metadata": {
    "collapsed": true
   },
   "outputs": [],
   "source": [
    "dt = 1.\n",
    "n_step = 20\n",
    "n_sample = 1000\n",
    "mom_resample_coeff = 1.\n",
    "pos_init = rng.normal(size=(10, 1))\n",
    "pos_samples_hmc, accepts = hmc_chain_func(\n",
    "    pos_init, dt, n_step, n_sample, mom_resample_coeff\n",
    ")\n",
    "print(accepts.mean())"
   ]
  },
  {
   "cell_type": "code",
   "execution_count": null,
   "metadata": {
    "collapsed": true
   },
   "outputs": [],
   "source": [
    "fig, axes = plt.subplots(2, 1, sharex=True, figsize=(6, 3))\n",
    "xs = np.linspace(-20, 20, 200)\n",
    "axes[0].plot(xs, np.exp(-phi_func(xs)))\n",
    "axes[1].plot(xs, np.exp(-phi_func(xs)))\n",
    "axes[0].hist(pos_samples_hmc[:, 0, 0], 15, normed=True, alpha=0.8)\n",
    "axes[1].hist(pos_samples[:, 0, 0], 50, weights=probs_1[:, 0], normed=True, alpha=0.8)\n",
    "axes[1].set_xlabel(r'Target state $x$')\n",
    "axes[0].set_ylabel(r'Probability density')\n",
    "axes[1].set_ylabel(r'Probability density')\n",
    "axes[0].legend(['Target', 'HMC'], ncol=1, loc='upper left')\n",
    "axes[1].legend(['Target', 'CT HMC'], ncol=1, loc='upper left')\n",
    "fig.tight_layout(pad=0)\n",
    "fig.savefig(os.path.join(exp_dir, 'jct-and-hmc-target-histograms.pdf'))"
   ]
  }
 ],
 "metadata": {
  "anaconda-cloud": {},
  "kernelspec": {
   "display_name": "Python 2",
   "language": "python",
   "name": "python2"
  },
  "language_info": {
   "codemirror_mode": {
    "name": "ipython",
    "version": 2
   },
   "file_extension": ".py",
   "mimetype": "text/x-python",
   "name": "python",
   "nbconvert_exporter": "python",
   "pygments_lexer": "ipython2",
   "version": "2.7.13"
  }
 },
 "nbformat": 4,
 "nbformat_minor": 1
}
