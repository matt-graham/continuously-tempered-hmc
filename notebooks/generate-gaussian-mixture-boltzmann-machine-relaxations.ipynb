{
 "cells": [
  {
   "cell_type": "code",
   "execution_count": null,
   "metadata": {},
   "outputs": [],
   "source": [
    "import os\n",
    "import time\n",
    "import json\n",
    "import numpy as np\n",
    "import bmtools.exact.moments as mom\n",
    "import bmtools.relaxations.gm_relaxations as gmr\n",
    "import bmtools.utils as utils"
   ]
  },
  {
   "cell_type": "code",
   "execution_count": null,
   "metadata": {},
   "outputs": [],
   "source": [
    "base_dir = os.path.dirname(os.getcwd())\n",
    "model_dir = os.path.join(base_dir, 'data', 'gaussian-bmr')\n",
    "if not os.path.exists(model_dir):\n",
    "    os.makedirs(model_dir)"
   ]
  },
  {
   "cell_type": "code",
   "execution_count": null,
   "metadata": {
    "collapsed": true
   },
   "outputs": [],
   "source": [
    "params = {\n",
    "    'seed': 201702,\n",
    "    'n_unit': 28,\n",
    "    'n_sys': 10,\n",
    "    'w_scale_1': 6.,\n",
    "    'w_scale_2': 2.,\n",
    "    'b_scale': 0.1,\n",
    "}\n",
    "with open(os.path.join(model_dir, 'params.json'), 'w') as f:\n",
    "    json.dump(params, f, indent=True)"
   ]
  },
  {
   "cell_type": "code",
   "execution_count": null,
   "metadata": {
    "collapsed": true
   },
   "outputs": [],
   "source": [
    "rng = np.random.RandomState(params['seed'])\n",
    "for s in range(params['n_sys']):\n",
    "    print('Starting system {0}...'.format(s + 1))\n",
    "    basis = utils.random_orthogonal_matrix(params['n_unit'], rng)\n",
    "    eigvals = params['w_scale_1'] * np.tanh(rng.normal(size=params['n_unit']) * params['w_scale_2'])\n",
    "    biases = rng.normal(size=params['n_unit']) * params['b_scale']\n",
    "    weights = (basis * eigvals).dot(basis.T)\n",
    "    weights -= np.diag(weights.diagonal())\n",
    "    relaxation = gmr.IsotropicCovarianceGMRelaxation(weights, biases, True)\n",
    "    log_norm_const_x, expc_x, covar_x = relaxation.moments_x(True, 4)\n",
    "    save_path = os.path.join(model_dir, 'params_and_moms_{0}.npz'.format(s + 1))\n",
    "    np.savez_compressed(save_path, weights=weights, biases=biases, \n",
    "                        log_norm_const_x=log_norm_const_x, expc_x=expc_x, covar_x=covar_x)\n",
    "    print('...completed system {0}.'.format(s + 1))"
   ]
  }
 ],
 "metadata": {
  "anaconda-cloud": {},
  "kernelspec": {
   "display_name": "Python 2",
   "language": "python",
   "name": "python2"
  },
  "language_info": {
   "codemirror_mode": {
    "name": "ipython",
    "version": 2
   },
   "file_extension": ".py",
   "mimetype": "text/x-python",
   "name": "python",
   "nbconvert_exporter": "python",
   "pygments_lexer": "ipython2",
   "version": "2.7.13"
  }
 },
 "nbformat": 4,
 "nbformat_minor": 1
}
